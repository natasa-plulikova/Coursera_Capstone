{
 "cells": [
  {
   "cell_type": "markdown",
   "metadata": {},
   "source": [
    "# A neighborhood recomender"
   ]
  },
  {
   "cell_type": "markdown",
   "metadata": {},
   "source": [
    "## Problem statement\n",
    "People like to travel and explore the new places. Typically, there is a lot to see for a limited amount of the time that people have to visit a particular city. Therefore, it will be useful if an automatic recommender system will be available that could based on someone's preferences suggest the best neighborhood. "
   ]
  },
  {
   "cell_type": "markdown",
   "metadata": {},
   "source": [
    "## Data\n",
    "For this case study, I will be using the same data as in week 3 assignment, but the steps can be reproduced for any type of data. Toronto neighborhood data is available on the wikipedia page and I use the csv file of location data that was provided in week 3 assignment."
   ]
  },
  {
   "cell_type": "code",
   "execution_count": 74,
   "metadata": {},
   "outputs": [],
   "source": [
    "import pandas as pd\n",
    "import numpy as np\n",
    "import config\n",
    "import requests\n",
    "import math\n",
    "import os\n",
    "from sklearn.decomposition import TruncatedSVD\n",
    "from sklearn.cluster import KMeans\n",
    "from sklearn.manifold import TSNE\n",
    "from sklearn.metrics import pairwise_distances\n",
    "import matplotlib\n",
    "import matplotlib.pyplot as plt\n",
    "%matplotlib inline"
   ]
  },
  {
   "cell_type": "markdown",
   "metadata": {},
   "source": [
    "Create a file config.py with your Foursquare credentials on your local machine. This file is gitignored for security reasons."
   ]
  },
  {
   "cell_type": "code",
   "execution_count": 185,
   "metadata": {},
   "outputs": [],
   "source": [
    "# foursquare API specifications\n",
    "CLIENT_ID = config.CLIENT_ID\n",
    "CLIENT_SECRET = config.CLIENT_SECRET\n",
    "ACCESS_TOKEN = config.ACCESS_TOKEN\n",
    "VERSION = '20180605' # Foursquare API version\n",
    "LIMIT = 100 # A default Foursquare API limit value\n",
    "radius = 500"
   ]
  },
  {
   "cell_type": "markdown",
   "metadata": {},
   "source": [
    "Import a wikipedia page into a pandas dataframe by scraping the table"
   ]
  },
  {
   "cell_type": "code",
   "execution_count": 76,
   "metadata": {},
   "outputs": [
    {
     "data": {
      "text/html": [
       "<div>\n",
       "<style scoped>\n",
       "    .dataframe tbody tr th:only-of-type {\n",
       "        vertical-align: middle;\n",
       "    }\n",
       "\n",
       "    .dataframe tbody tr th {\n",
       "        vertical-align: top;\n",
       "    }\n",
       "\n",
       "    .dataframe thead th {\n",
       "        text-align: right;\n",
       "    }\n",
       "</style>\n",
       "<table border=\"1\" class=\"dataframe\">\n",
       "  <thead>\n",
       "    <tr style=\"text-align: right;\">\n",
       "      <th></th>\n",
       "      <th>Postal Code</th>\n",
       "      <th>Borough</th>\n",
       "      <th>Neighbourhood</th>\n",
       "    </tr>\n",
       "  </thead>\n",
       "  <tbody>\n",
       "    <tr>\n",
       "      <th>0</th>\n",
       "      <td>M3A</td>\n",
       "      <td>North York</td>\n",
       "      <td>Parkwoods</td>\n",
       "    </tr>\n",
       "    <tr>\n",
       "      <th>1</th>\n",
       "      <td>M4A</td>\n",
       "      <td>North York</td>\n",
       "      <td>Victoria Village</td>\n",
       "    </tr>\n",
       "    <tr>\n",
       "      <th>2</th>\n",
       "      <td>M5A</td>\n",
       "      <td>Downtown Toronto</td>\n",
       "      <td>Regent Park, Harbourfront</td>\n",
       "    </tr>\n",
       "    <tr>\n",
       "      <th>3</th>\n",
       "      <td>M6A</td>\n",
       "      <td>North York</td>\n",
       "      <td>Lawrence Manor, Lawrence Heights</td>\n",
       "    </tr>\n",
       "    <tr>\n",
       "      <th>4</th>\n",
       "      <td>M7A</td>\n",
       "      <td>Downtown Toronto</td>\n",
       "      <td>Queen's Park, Ontario Provincial Government</td>\n",
       "    </tr>\n",
       "  </tbody>\n",
       "</table>\n",
       "</div>"
      ],
      "text/plain": [
       "  Postal Code           Borough                                Neighbourhood\n",
       "0         M3A        North York                                    Parkwoods\n",
       "1         M4A        North York                             Victoria Village\n",
       "2         M5A  Downtown Toronto                    Regent Park, Harbourfront\n",
       "3         M6A        North York             Lawrence Manor, Lawrence Heights\n",
       "4         M7A  Downtown Toronto  Queen's Park, Ontario Provincial Government"
      ]
     },
     "execution_count": 76,
     "metadata": {},
     "output_type": "execute_result"
    }
   ],
   "source": [
    "url = 'https://en.wikipedia.org/wiki/List_of_postal_codes_of_Canada:_M'\n",
    "wiki_df = pd.read_html(url)[0]\n",
    "toronto_df = wiki_df.loc[wiki_df['Borough'] != 'Not assigned'].reset_index(drop=True)\n",
    "toronto_df.head()"
   ]
  },
  {
   "cell_type": "code",
   "execution_count": 77,
   "metadata": {},
   "outputs": [
    {
     "data": {
      "text/plain": [
       "(103, 3)"
      ]
     },
     "execution_count": 77,
     "metadata": {},
     "output_type": "execute_result"
    }
   ],
   "source": [
    "toronto_df.shape"
   ]
  },
  {
   "cell_type": "markdown",
   "metadata": {},
   "source": [
    "Attach the geographical location data based on the csv from provided csv"
   ]
  },
  {
   "cell_type": "code",
   "execution_count": 78,
   "metadata": {},
   "outputs": [
    {
     "data": {
      "text/html": [
       "<div>\n",
       "<style scoped>\n",
       "    .dataframe tbody tr th:only-of-type {\n",
       "        vertical-align: middle;\n",
       "    }\n",
       "\n",
       "    .dataframe tbody tr th {\n",
       "        vertical-align: top;\n",
       "    }\n",
       "\n",
       "    .dataframe thead th {\n",
       "        text-align: right;\n",
       "    }\n",
       "</style>\n",
       "<table border=\"1\" class=\"dataframe\">\n",
       "  <thead>\n",
       "    <tr style=\"text-align: right;\">\n",
       "      <th></th>\n",
       "      <th>Postal Code</th>\n",
       "      <th>Latitude</th>\n",
       "      <th>Longitude</th>\n",
       "    </tr>\n",
       "  </thead>\n",
       "  <tbody>\n",
       "    <tr>\n",
       "      <th>0</th>\n",
       "      <td>M1B</td>\n",
       "      <td>43.806686</td>\n",
       "      <td>-79.194353</td>\n",
       "    </tr>\n",
       "    <tr>\n",
       "      <th>1</th>\n",
       "      <td>M1C</td>\n",
       "      <td>43.784535</td>\n",
       "      <td>-79.160497</td>\n",
       "    </tr>\n",
       "    <tr>\n",
       "      <th>2</th>\n",
       "      <td>M1E</td>\n",
       "      <td>43.763573</td>\n",
       "      <td>-79.188711</td>\n",
       "    </tr>\n",
       "    <tr>\n",
       "      <th>3</th>\n",
       "      <td>M1G</td>\n",
       "      <td>43.770992</td>\n",
       "      <td>-79.216917</td>\n",
       "    </tr>\n",
       "    <tr>\n",
       "      <th>4</th>\n",
       "      <td>M1H</td>\n",
       "      <td>43.773136</td>\n",
       "      <td>-79.239476</td>\n",
       "    </tr>\n",
       "  </tbody>\n",
       "</table>\n",
       "</div>"
      ],
      "text/plain": [
       "  Postal Code   Latitude  Longitude\n",
       "0         M1B  43.806686 -79.194353\n",
       "1         M1C  43.784535 -79.160497\n",
       "2         M1E  43.763573 -79.188711\n",
       "3         M1G  43.770992 -79.216917\n",
       "4         M1H  43.773136 -79.239476"
      ]
     },
     "execution_count": 78,
     "metadata": {},
     "output_type": "execute_result"
    }
   ],
   "source": [
    "cwd = os.getcwd()\n",
    "geo_data = pd.read_csv(cwd + '/Geospatial_Coordinates.csv')\n",
    "geo_data.head()"
   ]
  },
  {
   "cell_type": "markdown",
   "metadata": {},
   "source": [
    "Merge the two datasets into one"
   ]
  },
  {
   "cell_type": "code",
   "execution_count": 79,
   "metadata": {},
   "outputs": [
    {
     "data": {
      "text/html": [
       "<div>\n",
       "<style scoped>\n",
       "    .dataframe tbody tr th:only-of-type {\n",
       "        vertical-align: middle;\n",
       "    }\n",
       "\n",
       "    .dataframe tbody tr th {\n",
       "        vertical-align: top;\n",
       "    }\n",
       "\n",
       "    .dataframe thead th {\n",
       "        text-align: right;\n",
       "    }\n",
       "</style>\n",
       "<table border=\"1\" class=\"dataframe\">\n",
       "  <thead>\n",
       "    <tr style=\"text-align: right;\">\n",
       "      <th></th>\n",
       "      <th>Postal Code</th>\n",
       "      <th>Borough</th>\n",
       "      <th>Neighbourhood</th>\n",
       "      <th>Latitude</th>\n",
       "      <th>Longitude</th>\n",
       "    </tr>\n",
       "  </thead>\n",
       "  <tbody>\n",
       "    <tr>\n",
       "      <th>0</th>\n",
       "      <td>M3A</td>\n",
       "      <td>North York</td>\n",
       "      <td>Parkwoods</td>\n",
       "      <td>43.753259</td>\n",
       "      <td>-79.329656</td>\n",
       "    </tr>\n",
       "    <tr>\n",
       "      <th>1</th>\n",
       "      <td>M4A</td>\n",
       "      <td>North York</td>\n",
       "      <td>Victoria Village</td>\n",
       "      <td>43.725882</td>\n",
       "      <td>-79.315572</td>\n",
       "    </tr>\n",
       "    <tr>\n",
       "      <th>2</th>\n",
       "      <td>M5A</td>\n",
       "      <td>Downtown Toronto</td>\n",
       "      <td>Regent Park, Harbourfront</td>\n",
       "      <td>43.654260</td>\n",
       "      <td>-79.360636</td>\n",
       "    </tr>\n",
       "    <tr>\n",
       "      <th>3</th>\n",
       "      <td>M6A</td>\n",
       "      <td>North York</td>\n",
       "      <td>Lawrence Manor, Lawrence Heights</td>\n",
       "      <td>43.718518</td>\n",
       "      <td>-79.464763</td>\n",
       "    </tr>\n",
       "    <tr>\n",
       "      <th>4</th>\n",
       "      <td>M7A</td>\n",
       "      <td>Downtown Toronto</td>\n",
       "      <td>Queen's Park, Ontario Provincial Government</td>\n",
       "      <td>43.662301</td>\n",
       "      <td>-79.389494</td>\n",
       "    </tr>\n",
       "  </tbody>\n",
       "</table>\n",
       "</div>"
      ],
      "text/plain": [
       "  Postal Code           Borough                                Neighbourhood  \\\n",
       "0         M3A        North York                                    Parkwoods   \n",
       "1         M4A        North York                             Victoria Village   \n",
       "2         M5A  Downtown Toronto                    Regent Park, Harbourfront   \n",
       "3         M6A        North York             Lawrence Manor, Lawrence Heights   \n",
       "4         M7A  Downtown Toronto  Queen's Park, Ontario Provincial Government   \n",
       "\n",
       "    Latitude  Longitude  \n",
       "0  43.753259 -79.329656  \n",
       "1  43.725882 -79.315572  \n",
       "2  43.654260 -79.360636  \n",
       "3  43.718518 -79.464763  \n",
       "4  43.662301 -79.389494  "
      ]
     },
     "execution_count": 79,
     "metadata": {},
     "output_type": "execute_result"
    }
   ],
   "source": [
    "toronto_geo_df = toronto_df.merge(geo_data, on = 'Postal Code')\n",
    "toronto_geo_df.head()"
   ]
  },
  {
   "cell_type": "markdown",
   "metadata": {},
   "source": [
    "Let's do a little investigation with foursquare API on what we can get about the neighbourhood"
   ]
  },
  {
   "cell_type": "code",
   "execution_count": 80,
   "metadata": {},
   "outputs": [],
   "source": [
    "def getNearbyVenues(postal_codes, latitudes, longitudes, radius=500):\n",
    "    \n",
    "    venues_list=[]\n",
    "    for pc, lat, lng in zip(postal_codes, latitudes, longitudes):\n",
    "        # create the API request URL\n",
    "        url = 'https://api.foursquare.com/v2/venues/explore?&client_id={}&client_secret={}&oauth_token={}&v={}&ll={},{}&radius={}&limit={}'.format(\n",
    "            CLIENT_ID, \n",
    "            CLIENT_SECRET, \n",
    "            ACCESS_TOKEN,\n",
    "            VERSION, \n",
    "            lat, \n",
    "            lng, \n",
    "            radius, \n",
    "            LIMIT)\n",
    "            \n",
    "        # make the GET request\n",
    "        urlrequest = requests.get(url).json()\n",
    "        results = urlrequest[\"response\"]['groups'][0]['items']\n",
    "\n",
    "        # return only relevant information for each nearby venue\n",
    "        venues_list.append([(\n",
    "            pc, \n",
    "            lat, \n",
    "            lng, \n",
    "            v['venue']['name'],\n",
    "            v['venue']['id'],\n",
    "            v['venue']['location']['lat'], \n",
    "            v['venue']['location']['lng'],  \n",
    "            v['venue']['categories'][0]['name']) for v in results])\n",
    "\n",
    "    nearby_venues = pd.DataFrame([item for venue_list in venues_list for item in venue_list])\n",
    "    nearby_venues.columns = ['Postal Code', \n",
    "                  'Neighborhood Latitude', \n",
    "                  'Neighborhood Longitude', \n",
    "                  'Venue',\n",
    "                  'Venue ID',\n",
    "                  'Venue Latitude', \n",
    "                  'Venue Longitude', \n",
    "                  'Venue Category']\n",
    "    \n",
    "    return(nearby_venues)"
   ]
  },
  {
   "cell_type": "code",
   "execution_count": 81,
   "metadata": {},
   "outputs": [
    {
     "data": {
      "text/html": [
       "<div>\n",
       "<style scoped>\n",
       "    .dataframe tbody tr th:only-of-type {\n",
       "        vertical-align: middle;\n",
       "    }\n",
       "\n",
       "    .dataframe tbody tr th {\n",
       "        vertical-align: top;\n",
       "    }\n",
       "\n",
       "    .dataframe thead th {\n",
       "        text-align: right;\n",
       "    }\n",
       "</style>\n",
       "<table border=\"1\" class=\"dataframe\">\n",
       "  <thead>\n",
       "    <tr style=\"text-align: right;\">\n",
       "      <th></th>\n",
       "      <th>Postal Code</th>\n",
       "      <th>Neighborhood Latitude</th>\n",
       "      <th>Neighborhood Longitude</th>\n",
       "      <th>Venue</th>\n",
       "      <th>Venue ID</th>\n",
       "      <th>Venue Latitude</th>\n",
       "      <th>Venue Longitude</th>\n",
       "      <th>Venue Category</th>\n",
       "    </tr>\n",
       "  </thead>\n",
       "  <tbody>\n",
       "    <tr>\n",
       "      <th>0</th>\n",
       "      <td>M3A</td>\n",
       "      <td>43.753259</td>\n",
       "      <td>-79.329656</td>\n",
       "      <td>Brookbanks Park</td>\n",
       "      <td>4e8d9dcdd5fbbbb6b3003c7b</td>\n",
       "      <td>43.751976</td>\n",
       "      <td>-79.332140</td>\n",
       "      <td>Park</td>\n",
       "    </tr>\n",
       "    <tr>\n",
       "      <th>1</th>\n",
       "      <td>M3A</td>\n",
       "      <td>43.753259</td>\n",
       "      <td>-79.329656</td>\n",
       "      <td>Careful &amp; Reliable Painting</td>\n",
       "      <td>58d5b8d0102f4722b70e487b</td>\n",
       "      <td>43.752622</td>\n",
       "      <td>-79.331957</td>\n",
       "      <td>Construction &amp; Landscaping</td>\n",
       "    </tr>\n",
       "    <tr>\n",
       "      <th>2</th>\n",
       "      <td>M3A</td>\n",
       "      <td>43.753259</td>\n",
       "      <td>-79.329656</td>\n",
       "      <td>649 Variety</td>\n",
       "      <td>51d769f2498e3efc78bee6b9</td>\n",
       "      <td>43.754513</td>\n",
       "      <td>-79.331942</td>\n",
       "      <td>Convenience Store</td>\n",
       "    </tr>\n",
       "    <tr>\n",
       "      <th>3</th>\n",
       "      <td>M3A</td>\n",
       "      <td>43.753259</td>\n",
       "      <td>-79.329656</td>\n",
       "      <td>Towns On The Ravine</td>\n",
       "      <td>5fc825cac5b8dd60907c56b3</td>\n",
       "      <td>43.754754</td>\n",
       "      <td>-79.332552</td>\n",
       "      <td>Hotel</td>\n",
       "    </tr>\n",
       "    <tr>\n",
       "      <th>4</th>\n",
       "      <td>M3A</td>\n",
       "      <td>43.753259</td>\n",
       "      <td>-79.329656</td>\n",
       "      <td>Sun Life</td>\n",
       "      <td>58f01a208f2c1a558cea5f7d</td>\n",
       "      <td>43.754760</td>\n",
       "      <td>-79.332783</td>\n",
       "      <td>Construction &amp; Landscaping</td>\n",
       "    </tr>\n",
       "  </tbody>\n",
       "</table>\n",
       "</div>"
      ],
      "text/plain": [
       "  Postal Code  Neighborhood Latitude  Neighborhood Longitude  \\\n",
       "0         M3A              43.753259              -79.329656   \n",
       "1         M3A              43.753259              -79.329656   \n",
       "2         M3A              43.753259              -79.329656   \n",
       "3         M3A              43.753259              -79.329656   \n",
       "4         M3A              43.753259              -79.329656   \n",
       "\n",
       "                         Venue                  Venue ID  Venue Latitude  \\\n",
       "0              Brookbanks Park  4e8d9dcdd5fbbbb6b3003c7b       43.751976   \n",
       "1  Careful & Reliable Painting  58d5b8d0102f4722b70e487b       43.752622   \n",
       "2                  649 Variety  51d769f2498e3efc78bee6b9       43.754513   \n",
       "3          Towns On The Ravine  5fc825cac5b8dd60907c56b3       43.754754   \n",
       "4                     Sun Life  58f01a208f2c1a558cea5f7d       43.754760   \n",
       "\n",
       "   Venue Longitude              Venue Category  \n",
       "0       -79.332140                        Park  \n",
       "1       -79.331957  Construction & Landscaping  \n",
       "2       -79.331942           Convenience Store  \n",
       "3       -79.332552                       Hotel  \n",
       "4       -79.332783  Construction & Landscaping  "
      ]
     },
     "execution_count": 81,
     "metadata": {},
     "output_type": "execute_result"
    }
   ],
   "source": [
    "toronto_venues = getNearbyVenues(postal_codes = toronto_geo_df['Postal Code'], \n",
    "                                 latitudes = toronto_geo_df['Latitude'], \n",
    "                                 longitudes = toronto_geo_df['Longitude'])\n",
    "toronto_venues.head()"
   ]
  },
  {
   "cell_type": "code",
   "execution_count": 82,
   "metadata": {},
   "outputs": [
    {
     "data": {
      "text/plain": [
       "Postal Code\n",
       "M1B                 [fast food restaurant, home service]\n",
       "M1C    [golf course, construction & landscaping, home...\n",
       "M1E    [bank, electronics store, spa, restaurant, mex...\n",
       "M1G    [coffee shop, coffee shop, korean bbq restaura...\n",
       "M1H    [caribbean restaurant, hakka restaurant, thai ...\n",
       "Name: Venue Category, dtype: object"
      ]
     },
     "execution_count": 82,
     "metadata": {},
     "output_type": "execute_result"
    }
   ],
   "source": [
    "# create pandas series with list of categories and postal codes as index. lowercase all categories\n",
    "toronto_categories = toronto_venues.groupby('Postal Code')['Venue Category'].apply(list)\n",
    "toronto_categories = toronto_categories.apply(lambda x: [word.lower() for word in x])\n",
    "toronto_categories.head()"
   ]
  },
  {
   "cell_type": "markdown",
   "metadata": {},
   "source": [
    "## Data exploration"
   ]
  },
  {
   "cell_type": "code",
   "execution_count": 83,
   "metadata": {},
   "outputs": [],
   "source": [
    "# first let's get the list of all categories that are present\n",
    "all_categories = []\n",
    "for idx in toronto_categories.index:\n",
    "    all_categories = all_categories + toronto_categories.loc[idx]\n",
    "    \n",
    "all_categories = list(set(all_categories))"
   ]
  },
  {
   "cell_type": "code",
   "execution_count": 84,
   "metadata": {},
   "outputs": [
    {
     "data": {
      "text/plain": [
       "320"
      ]
     },
     "execution_count": 84,
     "metadata": {},
     "output_type": "execute_result"
    }
   ],
   "source": [
    "len(all_categories)"
   ]
  },
  {
   "cell_type": "code",
   "execution_count": 85,
   "metadata": {},
   "outputs": [],
   "source": [
    "#explore count  of neighborhoods by category\n",
    "category_count = {i: 0 for i in all_categories}\n",
    "for cat in all_categories:\n",
    "    for idx in toronto_categories.index:\n",
    "        if (cat in set(toronto_categories.loc[idx])):\n",
    "            category_count[cat] = category_count[cat] + 1"
   ]
  },
  {
   "cell_type": "code",
   "execution_count": 86,
   "metadata": {},
   "outputs": [
    {
     "data": {
      "text/html": [
       "<div>\n",
       "<style scoped>\n",
       "    .dataframe tbody tr th:only-of-type {\n",
       "        vertical-align: middle;\n",
       "    }\n",
       "\n",
       "    .dataframe tbody tr th {\n",
       "        vertical-align: top;\n",
       "    }\n",
       "\n",
       "    .dataframe thead th {\n",
       "        text-align: right;\n",
       "    }\n",
       "</style>\n",
       "<table border=\"1\" class=\"dataframe\">\n",
       "  <thead>\n",
       "    <tr style=\"text-align: right;\">\n",
       "      <th></th>\n",
       "      <th>venue</th>\n",
       "      <th>count</th>\n",
       "    </tr>\n",
       "  </thead>\n",
       "  <tbody>\n",
       "    <tr>\n",
       "      <th>298</th>\n",
       "      <td>coffee shop</td>\n",
       "      <td>53</td>\n",
       "    </tr>\n",
       "    <tr>\n",
       "      <th>23</th>\n",
       "      <td>pizza place</td>\n",
       "      <td>49</td>\n",
       "    </tr>\n",
       "    <tr>\n",
       "      <th>235</th>\n",
       "      <td>park</td>\n",
       "      <td>46</td>\n",
       "    </tr>\n",
       "    <tr>\n",
       "      <th>12</th>\n",
       "      <td>restaurant</td>\n",
       "      <td>37</td>\n",
       "    </tr>\n",
       "    <tr>\n",
       "      <th>27</th>\n",
       "      <td>sandwich place</td>\n",
       "      <td>36</td>\n",
       "    </tr>\n",
       "  </tbody>\n",
       "</table>\n",
       "</div>"
      ],
      "text/plain": [
       "              venue  count\n",
       "298     coffee shop     53\n",
       "23      pizza place     49\n",
       "235            park     46\n",
       "12       restaurant     37\n",
       "27   sandwich place     36"
      ]
     },
     "execution_count": 86,
     "metadata": {},
     "output_type": "execute_result"
    }
   ],
   "source": [
    "category_count_df = pd.DataFrame(data = category_count, index = [0]).transpose().reset_index()\n",
    "category_count_df.columns = ['venue', 'count']\n",
    "category_count_df.sort_values(by = 'count', ascending = False, inplace = True)\n",
    "category_count_df.head()"
   ]
  },
  {
   "cell_type": "code",
   "execution_count": 192,
   "metadata": {},
   "outputs": [
    {
     "data": {
      "image/png": "[encoded data removed]",
      "text/plain": [
       "<Figure size 1152x576 with 1 Axes>"
      ]
     },
     "metadata": {
      "needs_background": "light"
     },
     "output_type": "display_data"
    }
   ],
   "source": [
    "# plot the most frequent categories\n",
    "categories_plot = category_count_df.head(15)\n",
    "categories_plot.set_index('venue', inplace = True)\n",
    "\n",
    "ax = categories_plot.plot(kind = 'bar', title= 'Neighborhood count by venue category', figsize = (16, 8), fontsize = 14)\n",
    "ax.set_ylabel('Neighborhood count')\n",
    "ax.set_xlabel('Venues')\n",
    "plt.show()"
   ]
  },
  {
   "cell_type": "code",
   "execution_count": 193,
   "metadata": {},
   "outputs": [
    {
     "data": {
      "image/png": "[encoded data removed]",
      "text/plain": [
       "<Figure size 1152x576 with 1 Axes>"
      ]
     },
     "metadata": {
      "needs_background": "light"
     },
     "output_type": "display_data"
    }
   ],
   "source": [
    "# let's inspect the most unique categories\n",
    "bottom15 = category_count_df.tail(30)\n",
    "bottom15.set_index('venue', inplace = True)\n",
    "\n",
    "ax = bottom15.plot(kind = 'bar', title= 'Rare categories', figsize = (16, 8), \n",
    "              fontsize = 14)\n",
    "ax.set_ylabel('Neighborhood count')\n",
    "ax.set_xlabel('Venues')\n",
    "plt.show()"
   ]
  },
  {
   "cell_type": "markdown",
   "metadata": {},
   "source": [
    "## Data Preparation"
   ]
  },
  {
   "cell_type": "markdown",
   "metadata": {},
   "source": [
    "Instead of simple bag of words vector, we will be using tf-idf measure. It stands for term frequency - inverse document frequency and will give us a good measure of number of categories in the neighborhood relative to frequency of the category in the whole town."
   ]
  },
  {
   "cell_type": "code",
   "execution_count": 89,
   "metadata": {},
   "outputs": [],
   "source": [
    "# we create a function that calculates the term frequency in the array\n",
    "def term_frequency(term, termsArray):\n",
    "    term_count = 0\n",
    "    for t in termsArray:\n",
    "        if t == term:\n",
    "            term_count = term_count + 1\n",
    "    return term_count"
   ]
  },
  {
   "cell_type": "code",
   "execution_count": 90,
   "metadata": {},
   "outputs": [],
   "source": [
    "# function that calculates the inverse document frequency, the output is the dictionary with all terms and idf measures\n",
    "def compute_idfs(df, category_list):\n",
    "    N = df.shape[0]\n",
    "    terms_dict = {i: 0 for i in category_list}\n",
    "    for idx in df.index:\n",
    "        for term in category_list:\n",
    "            if term in df.loc[idx]:\n",
    "                terms_dict[term] = terms_dict[term] + 1\n",
    "    \n",
    "    for word, val in terms_dict.items():\n",
    "        terms_dict[word] = math.log(N/ float(val))\n",
    "    return terms_dict"
   ]
  },
  {
   "cell_type": "code",
   "execution_count": 91,
   "metadata": {},
   "outputs": [],
   "source": [
    "idfs = compute_idfs(toronto_categories, all_categories)"
   ]
  },
  {
   "cell_type": "code",
   "execution_count": 92,
   "metadata": {},
   "outputs": [],
   "source": [
    "# create a function that will convert any query list of categories into the tf-idf vector\n",
    "def transformer(query, category_list):\n",
    "    query_vector = []\n",
    "    for category in category_list:\n",
    "        tf = term_frequency(category, query)\n",
    "        if(tf != 0):\n",
    "            tfidf = tf * idfs[category]\n",
    "        else:\n",
    "            tfidf = 0\n",
    "        query_vector.append(tfidf)\n",
    "    return query_vector"
   ]
  },
  {
   "cell_type": "code",
   "execution_count": 93,
   "metadata": {},
   "outputs": [
    {
     "data": {
      "text/html": [
       "<div>\n",
       "<style scoped>\n",
       "    .dataframe tbody tr th:only-of-type {\n",
       "        vertical-align: middle;\n",
       "    }\n",
       "\n",
       "    .dataframe tbody tr th {\n",
       "        vertical-align: top;\n",
       "    }\n",
       "\n",
       "    .dataframe thead th {\n",
       "        text-align: right;\n",
       "    }\n",
       "</style>\n",
       "<table border=\"1\" class=\"dataframe\">\n",
       "  <thead>\n",
       "    <tr style=\"text-align: right;\">\n",
       "      <th></th>\n",
       "      <th>fried chicken joint</th>\n",
       "      <th>gaming cafe</th>\n",
       "      <th>bridal shop</th>\n",
       "      <th>smoke shop</th>\n",
       "      <th>cosmetics shop</th>\n",
       "      <th>theater</th>\n",
       "      <th>diner</th>\n",
       "      <th>furniture / home store</th>\n",
       "      <th>chinese restaurant</th>\n",
       "      <th>business service</th>\n",
       "      <th>...</th>\n",
       "      <th>empanada restaurant</th>\n",
       "      <th>north indian restaurant</th>\n",
       "      <th>carpet store</th>\n",
       "      <th>food court</th>\n",
       "      <th>massage studio</th>\n",
       "      <th>fast food restaurant</th>\n",
       "      <th>wine shop</th>\n",
       "      <th>noodle house</th>\n",
       "      <th>shop &amp; service</th>\n",
       "      <th>shopping mall</th>\n",
       "    </tr>\n",
       "    <tr>\n",
       "      <th>Postal Code</th>\n",
       "      <th></th>\n",
       "      <th></th>\n",
       "      <th></th>\n",
       "      <th></th>\n",
       "      <th></th>\n",
       "      <th></th>\n",
       "      <th></th>\n",
       "      <th></th>\n",
       "      <th></th>\n",
       "      <th></th>\n",
       "      <th></th>\n",
       "      <th></th>\n",
       "      <th></th>\n",
       "      <th></th>\n",
       "      <th></th>\n",
       "      <th></th>\n",
       "      <th></th>\n",
       "      <th></th>\n",
       "      <th></th>\n",
       "      <th></th>\n",
       "      <th></th>\n",
       "    </tr>\n",
       "  </thead>\n",
       "  <tbody>\n",
       "    <tr>\n",
       "      <th>M1B</th>\n",
       "      <td>0.000000</td>\n",
       "      <td>0.0</td>\n",
       "      <td>0.0</td>\n",
       "      <td>0.0</td>\n",
       "      <td>0.0</td>\n",
       "      <td>0.0</td>\n",
       "      <td>0.0</td>\n",
       "      <td>0.0</td>\n",
       "      <td>0.0</td>\n",
       "      <td>0.0</td>\n",
       "      <td>...</td>\n",
       "      <td>0.0</td>\n",
       "      <td>0.0</td>\n",
       "      <td>0.0</td>\n",
       "      <td>0.0</td>\n",
       "      <td>0.0</td>\n",
       "      <td>1.406097</td>\n",
       "      <td>0.0</td>\n",
       "      <td>0.0</td>\n",
       "      <td>0.0</td>\n",
       "      <td>0.0</td>\n",
       "    </tr>\n",
       "    <tr>\n",
       "      <th>M1C</th>\n",
       "      <td>0.000000</td>\n",
       "      <td>0.0</td>\n",
       "      <td>0.0</td>\n",
       "      <td>0.0</td>\n",
       "      <td>0.0</td>\n",
       "      <td>0.0</td>\n",
       "      <td>0.0</td>\n",
       "      <td>0.0</td>\n",
       "      <td>0.0</td>\n",
       "      <td>0.0</td>\n",
       "      <td>...</td>\n",
       "      <td>0.0</td>\n",
       "      <td>0.0</td>\n",
       "      <td>0.0</td>\n",
       "      <td>0.0</td>\n",
       "      <td>0.0</td>\n",
       "      <td>0.000000</td>\n",
       "      <td>0.0</td>\n",
       "      <td>0.0</td>\n",
       "      <td>0.0</td>\n",
       "      <td>0.0</td>\n",
       "    </tr>\n",
       "    <tr>\n",
       "      <th>M1E</th>\n",
       "      <td>0.000000</td>\n",
       "      <td>0.0</td>\n",
       "      <td>0.0</td>\n",
       "      <td>0.0</td>\n",
       "      <td>0.0</td>\n",
       "      <td>0.0</td>\n",
       "      <td>0.0</td>\n",
       "      <td>0.0</td>\n",
       "      <td>0.0</td>\n",
       "      <td>0.0</td>\n",
       "      <td>...</td>\n",
       "      <td>0.0</td>\n",
       "      <td>0.0</td>\n",
       "      <td>0.0</td>\n",
       "      <td>0.0</td>\n",
       "      <td>0.0</td>\n",
       "      <td>0.000000</td>\n",
       "      <td>0.0</td>\n",
       "      <td>0.0</td>\n",
       "      <td>0.0</td>\n",
       "      <td>0.0</td>\n",
       "    </tr>\n",
       "    <tr>\n",
       "      <th>M1G</th>\n",
       "      <td>0.000000</td>\n",
       "      <td>0.0</td>\n",
       "      <td>0.0</td>\n",
       "      <td>0.0</td>\n",
       "      <td>0.0</td>\n",
       "      <td>0.0</td>\n",
       "      <td>0.0</td>\n",
       "      <td>0.0</td>\n",
       "      <td>0.0</td>\n",
       "      <td>0.0</td>\n",
       "      <td>...</td>\n",
       "      <td>0.0</td>\n",
       "      <td>0.0</td>\n",
       "      <td>0.0</td>\n",
       "      <td>0.0</td>\n",
       "      <td>0.0</td>\n",
       "      <td>0.000000</td>\n",
       "      <td>0.0</td>\n",
       "      <td>0.0</td>\n",
       "      <td>0.0</td>\n",
       "      <td>0.0</td>\n",
       "    </tr>\n",
       "    <tr>\n",
       "      <th>M1H</th>\n",
       "      <td>1.985915</td>\n",
       "      <td>0.0</td>\n",
       "      <td>0.0</td>\n",
       "      <td>0.0</td>\n",
       "      <td>0.0</td>\n",
       "      <td>0.0</td>\n",
       "      <td>0.0</td>\n",
       "      <td>0.0</td>\n",
       "      <td>0.0</td>\n",
       "      <td>0.0</td>\n",
       "      <td>...</td>\n",
       "      <td>0.0</td>\n",
       "      <td>0.0</td>\n",
       "      <td>0.0</td>\n",
       "      <td>0.0</td>\n",
       "      <td>0.0</td>\n",
       "      <td>0.000000</td>\n",
       "      <td>0.0</td>\n",
       "      <td>0.0</td>\n",
       "      <td>0.0</td>\n",
       "      <td>0.0</td>\n",
       "    </tr>\n",
       "  </tbody>\n",
       "</table>\n",
       "<p>5 rows × 320 columns</p>\n",
       "</div>"
      ],
      "text/plain": [
       "             fried chicken joint  gaming cafe  bridal shop  smoke shop  \\\n",
       "Postal Code                                                              \n",
       "M1B                     0.000000          0.0          0.0         0.0   \n",
       "M1C                     0.000000          0.0          0.0         0.0   \n",
       "M1E                     0.000000          0.0          0.0         0.0   \n",
       "M1G                     0.000000          0.0          0.0         0.0   \n",
       "M1H                     1.985915          0.0          0.0         0.0   \n",
       "\n",
       "             cosmetics shop  theater  diner  furniture / home store  \\\n",
       "Postal Code                                                           \n",
       "M1B                     0.0      0.0    0.0                     0.0   \n",
       "M1C                     0.0      0.0    0.0                     0.0   \n",
       "M1E                     0.0      0.0    0.0                     0.0   \n",
       "M1G                     0.0      0.0    0.0                     0.0   \n",
       "M1H                     0.0      0.0    0.0                     0.0   \n",
       "\n",
       "             chinese restaurant  business service  ...  empanada restaurant  \\\n",
       "Postal Code                                        ...                        \n",
       "M1B                         0.0               0.0  ...                  0.0   \n",
       "M1C                         0.0               0.0  ...                  0.0   \n",
       "M1E                         0.0               0.0  ...                  0.0   \n",
       "M1G                         0.0               0.0  ...                  0.0   \n",
       "M1H                         0.0               0.0  ...                  0.0   \n",
       "\n",
       "             north indian restaurant  carpet store  food court  \\\n",
       "Postal Code                                                      \n",
       "M1B                              0.0           0.0         0.0   \n",
       "M1C                              0.0           0.0         0.0   \n",
       "M1E                              0.0           0.0         0.0   \n",
       "M1G                              0.0           0.0         0.0   \n",
       "M1H                              0.0           0.0         0.0   \n",
       "\n",
       "             massage studio  fast food restaurant  wine shop  noodle house  \\\n",
       "Postal Code                                                                  \n",
       "M1B                     0.0              1.406097        0.0           0.0   \n",
       "M1C                     0.0              0.000000        0.0           0.0   \n",
       "M1E                     0.0              0.000000        0.0           0.0   \n",
       "M1G                     0.0              0.000000        0.0           0.0   \n",
       "M1H                     0.0              0.000000        0.0           0.0   \n",
       "\n",
       "             shop & service  shopping mall  \n",
       "Postal Code                                 \n",
       "M1B                     0.0            0.0  \n",
       "M1C                     0.0            0.0  \n",
       "M1E                     0.0            0.0  \n",
       "M1G                     0.0            0.0  \n",
       "M1H                     0.0            0.0  \n",
       "\n",
       "[5 rows x 320 columns]"
      ]
     },
     "execution_count": 93,
     "metadata": {},
     "output_type": "execute_result"
    }
   ],
   "source": [
    "# use the transformer on every neighborhood in toronto to create dataframe of features\n",
    "tfidf_data = []\n",
    "for idx in toronto_categories.index:\n",
    "    row_tfidf = transformer(toronto_categories.loc[idx], all_categories)\n",
    "    row = [idx] + row_tfidf\n",
    "    tfidf_data.append(row)\n",
    "tfidf_df = pd.DataFrame(data = tfidf_data, columns = ['Postal Code'] + all_categories).set_index('Postal Code')\n",
    "tfidf_df.head()"
   ]
  },
  {
   "cell_type": "markdown",
   "metadata": {},
   "source": [
    "## Modeling"
   ]
  },
  {
   "cell_type": "markdown",
   "metadata": {},
   "source": [
    "For modeling, we will use a method called latent semantic indexing."
   ]
  },
  {
   "cell_type": "code",
   "execution_count": 94,
   "metadata": {
    "scrolled": true
   },
   "outputs": [
    {
     "data": {
      "image/png": "[encoded data removed]",
      "text/plain": [
       "<Figure size 576x360 with 1 Axes>"
      ]
     },
     "metadata": {
      "needs_background": "light"
     },
     "output_type": "display_data"
    }
   ],
   "source": [
    "# determine number of components\n",
    "mod = TruncatedSVD(n_components=101, \n",
    "                         algorithm='randomized',\n",
    "                         n_iter=10, random_state=42)\n",
    "mod.fit(tfidf_df)\n",
    "\n",
    "ticks = np.arange(0, 101, step=10)\n",
    "eigvals = mod.singular_values_\n",
    "fig = plt.figure(figsize=(8,5))\n",
    "sing_vals = np.arange(101) + 1\n",
    "plt.plot(sing_vals, eigvals)\n",
    "plt.xticks(ticks)\n",
    "plt.title('Scree Plot')\n",
    "plt.xlabel('Principal Component')\n",
    "plt.ylabel('Singular value')\n",
    "\n",
    "leg = plt.legend(['Singular values from SVD'], loc='best', borderpad=0.3, \n",
    "                 shadow=False, prop=matplotlib.font_manager.FontProperties(size='small'),\n",
    "                 markerscale=0.4)\n",
    "leg.get_frame().set_alpha(0.4)\n",
    "plt.show()"
   ]
  },
  {
   "cell_type": "code",
   "execution_count": 95,
   "metadata": {},
   "outputs": [
    {
     "name": "stdout",
     "output_type": "stream",
     "text": [
      "0.7742647133192294\n"
     ]
    }
   ],
   "source": [
    "# check 20 components based on the scree plot\n",
    "svd_model20 = TruncatedSVD(n_components=20, \n",
    "                         algorithm='randomized',\n",
    "                         n_iter=10, random_state=42)\n",
    "category_features20 = svd_model20.fit_transform(tfidf_df)\n",
    "print(svd_model20.explained_variance_ratio_.sum())"
   ]
  },
  {
   "cell_type": "code",
   "execution_count": 112,
   "metadata": {},
   "outputs": [],
   "source": [
    "# creating a model with 50 components\n",
    "svd_model = TruncatedSVD(n_components=50, \n",
    "                         algorithm='randomized',\n",
    "                         n_iter=10, random_state=42)"
   ]
  },
  {
   "cell_type": "code",
   "execution_count": 113,
   "metadata": {},
   "outputs": [
    {
     "name": "stdout",
     "output_type": "stream",
     "text": [
      "[0.16582738 0.11305066 0.06074654 0.05154041 0.05009283 0.04328197\n",
      " 0.04025214 0.03755105 0.02690089 0.02205982 0.02181379 0.02161902\n",
      " 0.01956729 0.01792357 0.01639202 0.01490408 0.0148442  0.01289876\n",
      " 0.01215905 0.01083855 0.01069174 0.01009722 0.00930468 0.00872218\n",
      " 0.00864268 0.00816779 0.00773366 0.00746862 0.00707297 0.00649294\n",
      " 0.00639537 0.00610093 0.00556086 0.00542158 0.00525623 0.00508206\n",
      " 0.00502809 0.00484556 0.00443147 0.00436967 0.00408282 0.0039847\n",
      " 0.00371962 0.00369261 0.00357207 0.00333411 0.00328855 0.00320705\n",
      " 0.00303552 0.00296267]\n",
      "0.9460300525612165\n"
     ]
    }
   ],
   "source": [
    "category_features = svd_model.fit_transform(tfidf_df)\n",
    "print(svd_model.explained_variance_ratio_)\n",
    "print(svd_model.explained_variance_ratio_.sum())"
   ]
  },
  {
   "cell_type": "code",
   "execution_count": 114,
   "metadata": {},
   "outputs": [],
   "source": [
    "# visualize how the neighborhoods are divided based on our model\n",
    "tsne = TSNE(n_components = 2, perplexity = 5, init = 'pca', n_iter = 5000, random_state = 12)\n",
    "coords = tsne.fit_transform(category_features)"
   ]
  },
  {
   "cell_type": "code",
   "execution_count": 115,
   "metadata": {
    "scrolled": false
   },
   "outputs": [
    {
     "data": {
      "image/png": "[encoded data removed]",
      "text/plain": [
       "<Figure size 1080x1080 with 1 Axes>"
      ]
     },
     "metadata": {
      "needs_background": "light"
     },
     "output_type": "display_data"
    }
   ],
   "source": [
    "labels = list(tfidf_df.index)\n",
    "\n",
    "plt.figure(figsize = (15, 15))\n",
    "for i, label in enumerate(labels):\n",
    "    x, y = coords[i, :]\n",
    "    plt.scatter(x, y)\n",
    "    plt.annotate(label, xy = (x, y), xytext=(10, 4), textcoords=\"offset points\", ha=\"right\", va=\"bottom\")\n",
    "    \n",
    "plt.show()"
   ]
  },
  {
   "cell_type": "markdown",
   "metadata": {},
   "source": [
    "## Travel Advisor"
   ]
  },
  {
   "cell_type": "markdown",
   "metadata": {},
   "source": [
    "Recommending a neighborhood based on user's preferences"
   ]
  },
  {
   "cell_type": "code",
   "execution_count": 116,
   "metadata": {},
   "outputs": [],
   "source": [
    "query1 = ['bakery', 'japanese restaurant', 'park', 'bar']"
   ]
  },
  {
   "cell_type": "code",
   "execution_count": 117,
   "metadata": {},
   "outputs": [
    {
     "name": "stdout",
     "output_type": "stream",
     "text": [
      "M6J ['brewery', 'pizza place', 'asian restaurant', 'bar', 'wine bar', 'korean restaurant', 'ice cream shop', 'greek restaurant', 'beer store', 'new american restaurant', 'cocktail bar', 'cuban restaurant', 'vietnamese restaurant', 'theater', 'art gallery', 'bar', 'yoga studio', 'french restaurant', 'bar', 'japanese restaurant', 'coffee shop', 'record shop', 'bar', 'bakery', 'boutique', 'malay restaurant', 'asian restaurant', 'portuguese restaurant', 'salon / barbershop', 'bagel shop', 'vegetarian / vegan restaurant', 'vietnamese restaurant', \"men's store\", 'italian restaurant', 'coffee shop', 'bistro', 'mac & cheese joint', 'diner', 'bakery', 'new american restaurant', \"men's store\", 'coffee shop', 'restaurant', 'café', 'boutique', 'vegetarian / vegan restaurant', 'brazilian restaurant', 'cupcake shop', 'park', 'miscellaneous shop', 'argentinian restaurant', 'restaurant', 'diner', \"men's store\", 'wine bar', 'coffee shop', 'pub', 'café', 'pizza place', 'gift shop', 'bar', 'music venue', 'bar', \"men's store\", 'bar', 'deli / bodega', 'dog run', 'juice bar', 'sports bar', 'art gallery', 'mexican restaurant', 'bar', 'bar', 'southern / soul food restaurant', 'bar', 'burger joint', 'juice bar', \"men's store\", 'french restaurant', 'park', 'boutique', 'bank', 'boutique', 'clothing store', 'bar', 'yoga studio', 'bar', 'sandwich place', 'mexican restaurant', 'gastropub', 'bank', 'coffee shop', 'wine shop', 'bar', 'bar', 'coffee shop', 'liquor store', 'bank', 'cocktail bar', 'restaurant']\n",
      "M4X ['diner', 'japanese restaurant', 'restaurant', 'italian restaurant', 'café', 'café', 'indian restaurant', 'bakery', 'butcher', 'jewelry store', 'general entertainment', 'gastropub', 'deli / bodega', 'pet store', 'pub', 'taiwanese restaurant', 'caribbean restaurant', 'gift shop', 'park', 'restaurant', 'thai restaurant', 'market', 'coffee shop', 'bank', 'italian restaurant', 'playground', 'bakery', 'beer store', 'coffee shop', 'sandwich place', 'pizza place', 'liquor store', 'pub', 'chinese restaurant', 'pizza place', 'pharmacy', 'coffee shop', 'bakery', 'outdoor sculpture', 'ice cream shop', 'chinese restaurant', 'american restaurant', 'restaurant', 'grocery store', 'flower shop', 'bar', 'liquor store', 'convenience store', 'flower shop', 'park', 'office', 'coffee shop', 'convenience store', 'park', 'supermarket']\n",
      "M6H ['bar', 'middle eastern restaurant', 'grocery store', 'brewery', 'bakery', 'café', 'music venue', 'bakery', 'bank', 'supermarket', 'pharmacy', 'park', 'pharmacy', 'pool', 'pet store', 'athletics & sports', 'wine shop', 'pizza place', 'recording studio', 'art gallery', 'coffee shop', 'pizza place', 'playground', 'brazilian restaurant']\n",
      "M5S ['japanese restaurant', 'italian restaurant', 'dessert shop', 'restaurant', 'beer bar', 'bakery', 'bakery', 'bar', 'yoga studio', 'french restaurant', 'sushi restaurant', 'college gym', 'bookstore', 'café', 'comfort food restaurant', 'bookstore', 'theater', 'japanese restaurant', 'sandwich place', 'café', 'café', 'video game store', 'bank', 'sandwich place', 'sandwich place', 'college arts building', 'café', 'coffee shop', 'bar', 'café', 'pub', 'café', 'college auditorium', 'gym', 'italian restaurant', 'nightclub', 'noodle house', 'coffee shop', 'sandwich place', 'poutine place', 'bbq joint', 'beer store', 'convenience store', 'theater', 'intersection', 'café', 'college quad', 'pub', 'flower shop', 'paper / office supplies store', 'food truck', 'café', 'park', 'yoga studio', 'café', 'college cafeteria', 'restaurant', 'college cafeteria']\n",
      "M5X ['restaurant', 'gym', 'gym / fitness center', 'coffee shop', 'bakery', 'café', 'steakhouse', 'restaurant', 'café', 'gastropub', 'café', 'café', 'american restaurant', 'seafood restaurant', 'pub', 'pizza place', 'coffee shop', 'speakeasy', 'gluten-free restaurant', 'vegetarian / vegan restaurant', 'art gallery', 'restaurant', 'restaurant', 'seafood restaurant', 'coffee shop', 'hotel', 'tea room', 'wine bar', 'café', 'sandwich place', 'hotel', 'concert hall', 'food court', 'asian restaurant', 'coffee shop', 'deli / bodega', 'concert hall', 'bar', 'café', 'gym', 'beer bar', 'coffee shop', 'lounge', 'american restaurant', 'greek restaurant', 'deli / bodega', 'gift shop', 'salad place', 'pizza place', 'plaza', 'japanese restaurant', 'bookstore', 'japanese restaurant', 'hotel', 'coffee shop', 'museum', 'new american restaurant', 'hotel', 'coffee shop', 'american restaurant', 'train station', 'sushi restaurant', 'japanese restaurant', 'burger joint', 'monument / landmark', 'gym', 'mediterranean restaurant', 'coffee shop', 'gastropub', 'asian restaurant', 'steakhouse', 'salon / barbershop', 'sushi restaurant', 'theater', 'japanese restaurant', 'opera house', 'gym', 'beer bar', 'seafood restaurant', 'coffee shop', 'general travel', 'italian restaurant', 'asian restaurant', 'steakhouse', 'salad place', 'department store', 'fried chicken joint', 'latin american restaurant', 'coffee shop', 'thai restaurant', 'fast food restaurant', 'thai restaurant', 'café', 'colombian restaurant', 'salad place', 'hotel', 'deli / bodega', 'bar', 'coffee shop', 'cocktail bar']\n"
     ]
    }
   ],
   "source": [
    "query_vector1 = transformer(query1, all_categories)\n",
    "#transpose the vector for correct shape\n",
    "query_vector_reshaped1 = np.array(query_vector1).reshape(1, -1)\n",
    "\n",
    "query_svd1 = svd_model.transform(query_vector_reshaped1)\n",
    "distance_matrix1 = pairwise_distances(query_svd1, category_features, metric='cosine', n_jobs=-1)\n",
    "# save distances into a dataframe\n",
    "sorted_df1 = pd.DataFrame({'venues': toronto_categories, 'distance': distance_matrix1[0]}).sort_values(by = 'distance').head()\n",
    "\n",
    "for idx in sorted_df1.index:\n",
    "    print(idx, sorted_df1.loc[idx, 'venues'])"
   ]
  },
  {
   "cell_type": "code",
   "execution_count": 129,
   "metadata": {},
   "outputs": [
    {
     "name": "stdout",
     "output_type": "stream",
     "text": [
      "M4X bar:  1 park:  3 japanese restaurant:  1 bakery:  3\n",
      "M5E bar:  1 park:  1 japanese restaurant:  1 bakery:  4\n",
      "M5J bar:  2 park:  2 japanese restaurant:  1 bakery:  2\n",
      "M5L bar:  1 park:  1 japanese restaurant:  3 bakery:  1\n",
      "M5S bar:  2 park:  1 japanese restaurant:  2 bakery:  2\n",
      "M6J bar:  14 park:  2 japanese restaurant:  1 bakery:  2\n"
     ]
    }
   ],
   "source": [
    "# check what which neighborhoods will be selected with simple key word search\n",
    "for idx in toronto_categories.index:\n",
    "    row = toronto_categories.loc[idx]\n",
    "    if(query1[0] in row and query1[1] in row and query1[2] in row and query1[3] in row):\n",
    "        print(idx, query1[0], term_frequency(query1[0], row), \n",
    "              query1[1] term_frequency(query1[1], row), \n",
    "              query1[2], term_frequency(query1[2], row),\n",
    "             query1[3], term_frequency(query1[3], row))"
   ]
  },
  {
   "cell_type": "code",
   "execution_count": null,
   "metadata": {},
   "outputs": [],
   "source": [
    "# check how many neighborhoods have bars to get idea of how unique the category is\n",
    "category_count_df[category_count_df.venue == 'bar']"
   ]
  },
  {
   "cell_type": "code",
   "execution_count": 133,
   "metadata": {},
   "outputs": [
    {
     "name": "stdout",
     "output_type": "stream",
     "text": [
      "M9W bar:  2 park:  0 japanese restaurant:  4 bakery:  1\n"
     ]
    }
   ],
   "source": [
    "# inspect the M5X neighborhood which does not have park\n",
    "row = toronto_categories.loc['M5X']\n",
    "print(idx, 'bar: ', term_frequency('bar', row), \n",
    "      'park: ', term_frequency('park', row), \n",
    "      'japanese restaurant: ', term_frequency('japanese restaurant', row),\n",
    "     'bakery: ', term_frequency('bakery', row))"
   ]
  },
  {
   "cell_type": "code",
   "execution_count": 134,
   "metadata": {},
   "outputs": [
    {
     "data": {
      "text/html": [
       "<div>\n",
       "<style scoped>\n",
       "    .dataframe tbody tr th:only-of-type {\n",
       "        vertical-align: middle;\n",
       "    }\n",
       "\n",
       "    .dataframe tbody tr th {\n",
       "        vertical-align: top;\n",
       "    }\n",
       "\n",
       "    .dataframe thead th {\n",
       "        text-align: right;\n",
       "    }\n",
       "</style>\n",
       "<table border=\"1\" class=\"dataframe\">\n",
       "  <thead>\n",
       "    <tr style=\"text-align: right;\">\n",
       "      <th></th>\n",
       "      <th>venue</th>\n",
       "      <th>count</th>\n",
       "    </tr>\n",
       "  </thead>\n",
       "  <tbody>\n",
       "    <tr>\n",
       "      <th>47</th>\n",
       "      <td>japanese restaurant</td>\n",
       "      <td>28</td>\n",
       "    </tr>\n",
       "  </tbody>\n",
       "</table>\n",
       "</div>"
      ],
      "text/plain": [
       "                  venue  count\n",
       "47  japanese restaurant     28"
      ]
     },
     "execution_count": 134,
     "metadata": {},
     "output_type": "execute_result"
    }
   ],
   "source": [
    "# check occurence of japanese restaurant\n",
    "category_count_df[category_count_df.venue == 'japanese restaurant']"
   ]
  },
  {
   "cell_type": "code",
   "execution_count": 135,
   "metadata": {},
   "outputs": [
    {
     "data": {
      "text/html": [
       "<div>\n",
       "<style scoped>\n",
       "    .dataframe tbody tr th:only-of-type {\n",
       "        vertical-align: middle;\n",
       "    }\n",
       "\n",
       "    .dataframe tbody tr th {\n",
       "        vertical-align: top;\n",
       "    }\n",
       "\n",
       "    .dataframe thead th {\n",
       "        text-align: right;\n",
       "    }\n",
       "</style>\n",
       "<table border=\"1\" class=\"dataframe\">\n",
       "  <thead>\n",
       "    <tr style=\"text-align: right;\">\n",
       "      <th></th>\n",
       "      <th>venue</th>\n",
       "      <th>count</th>\n",
       "    </tr>\n",
       "  </thead>\n",
       "  <tbody>\n",
       "    <tr>\n",
       "      <th>235</th>\n",
       "      <td>park</td>\n",
       "      <td>46</td>\n",
       "    </tr>\n",
       "  </tbody>\n",
       "</table>\n",
       "</div>"
      ],
      "text/plain": [
       "    venue  count\n",
       "235  park     46"
      ]
     },
     "execution_count": 135,
     "metadata": {},
     "output_type": "execute_result"
    }
   ],
   "source": [
    "# check occurence of park\n",
    "category_count_df[category_count_df.venue == 'park']"
   ]
  },
  {
   "cell_type": "markdown",
   "metadata": {},
   "source": [
    "Inspect another query"
   ]
  },
  {
   "cell_type": "code",
   "execution_count": 176,
   "metadata": {},
   "outputs": [],
   "source": [
    "query2 = ['skating rink', 'dog run', 'park']"
   ]
  },
  {
   "cell_type": "code",
   "execution_count": 177,
   "metadata": {},
   "outputs": [
    {
     "name": "stdout",
     "output_type": "stream",
     "text": [
      "M4C ['skating rink', 'curling ice', 'beer store', 'park', 'intersection', 'construction & landscaping', 'bus stop', 'dance studio', 'skating rink', 'spa', 'athletics & sports', 'video store', 'construction & landscaping', 'atm', 'salon / barbershop', 'pharmacy']\n",
      "M8W ['pizza place', 'pub', 'gym', 'coffee shop', 'pizza place', 'sandwich place', 'pharmacy', 'dance studio', 'pool', 'skating rink', 'athletics & sports']\n",
      "M1N ['café', 'general entertainment', 'farm', 'skating rink', 'college stadium']\n",
      "M1S ['breakfast spot', 'latin american restaurant', 'lounge', 'clothing store', 'hardware store', 'fireworks store', 'skating rink']\n",
      "M1M ['motel', 'intersection', 'movie theater', 'american restaurant', 'skating rink', 'motel']\n",
      "M6R ['dog run', 'dessert shop', 'cuban restaurant', 'movie theater', 'eastern european restaurant', 'restaurant', 'italian restaurant', 'coffee shop', 'gift shop', 'gift shop', 'bookstore', 'breakfast spot', 'bar', 'breakfast spot', 'bank', 'light rail station', 'garden', 'coffee shop', 'tennis court', 'pizza place', 'clothing store', 'pet store', 'pharmacy', 'bookstore', 'deli / bodega', 'candy store', 'thrift / vintage store', 'grocery store', 'rental car location', 'boutique']\n",
      "M2H ['fast food restaurant', 'golf course', 'pool', 'mediterranean restaurant', 'dog run', 'athletics & sports']\n",
      "M1V ['intersection', 'park']\n",
      "M4P ['food & drink shop', 'park', 'breakfast spot', 'department store', 'hotel', 'sandwich place', 'gym / fitness center', 'electronics store', 'gym', 'hotel', 'dog run', 'construction & landscaping', 'dance studio', 'pizza place']\n",
      "M4B ['gastropub', 'gym / fitness center', 'pharmacy', 'bank', 'pizza place', 'furniture / home store', 'breakfast spot', 'café', 'pet store', 'spa', 'intersection', 'pizza place', 'flea market', 'athletics & sports']\n"
     ]
    }
   ],
   "source": [
    "query_vector2 = transformer(query2, all_categories)\n",
    "query_vector_reshaped2 = np.array(query_vector2).reshape(1, -1)\n",
    "\n",
    "query_svd2 = svd_model.transform(query_vector_reshaped2)\n",
    "distance_matrix2 = pairwise_distances(query_svd2, category_features, metric='cosine', n_jobs=-1)\n",
    "# save distances into a dataframe\n",
    "sorted_df2 = pd.DataFrame({'venues': toronto_categories, 'distance': distance_matrix2[0]}).sort_values(by = 'distance').head(10)\n",
    "\n",
    "for idx in sorted_df2.index:\n",
    "    print(idx, sorted_df2.loc[idx, 'venues'])"
   ]
  },
  {
   "cell_type": "code",
   "execution_count": 178,
   "metadata": {},
   "outputs": [],
   "source": [
    "# check what which neighborhoods will be selected with simple key word search\n",
    "for idx in toronto_categories.index:\n",
    "    row = toronto_categories.loc[idx]\n",
    "    if(query2[0] in row and query2[1] in row):\n",
    "        print(idx, query2[0], term_frequency(query2[0], row), \n",
    "              query2[1], term_frequency(query2[1], row))"
   ]
  },
  {
   "cell_type": "code",
   "execution_count": 179,
   "metadata": {},
   "outputs": [
    {
     "data": {
      "text/html": [
       "<div>\n",
       "<style scoped>\n",
       "    .dataframe tbody tr th:only-of-type {\n",
       "        vertical-align: middle;\n",
       "    }\n",
       "\n",
       "    .dataframe tbody tr th {\n",
       "        vertical-align: top;\n",
       "    }\n",
       "\n",
       "    .dataframe thead th {\n",
       "        text-align: right;\n",
       "    }\n",
       "</style>\n",
       "<table border=\"1\" class=\"dataframe\">\n",
       "  <thead>\n",
       "    <tr style=\"text-align: right;\">\n",
       "      <th></th>\n",
       "      <th>venue</th>\n",
       "      <th>count</th>\n",
       "    </tr>\n",
       "  </thead>\n",
       "  <tbody>\n",
       "    <tr>\n",
       "      <th>110</th>\n",
       "      <td>skating rink</td>\n",
       "      <td>6</td>\n",
       "    </tr>\n",
       "  </tbody>\n",
       "</table>\n",
       "</div>"
      ],
      "text/plain": [
       "            venue  count\n",
       "110  skating rink      6"
      ]
     },
     "execution_count": 179,
     "metadata": {},
     "output_type": "execute_result"
    }
   ],
   "source": [
    "category_count_df[category_count_df.venue == 'skating rink']"
   ]
  },
  {
   "cell_type": "code",
   "execution_count": 180,
   "metadata": {},
   "outputs": [
    {
     "data": {
      "text/html": [
       "<div>\n",
       "<style scoped>\n",
       "    .dataframe tbody tr th:only-of-type {\n",
       "        vertical-align: middle;\n",
       "    }\n",
       "\n",
       "    .dataframe tbody tr th {\n",
       "        vertical-align: top;\n",
       "    }\n",
       "\n",
       "    .dataframe thead th {\n",
       "        text-align: right;\n",
       "    }\n",
       "</style>\n",
       "<table border=\"1\" class=\"dataframe\">\n",
       "  <thead>\n",
       "    <tr style=\"text-align: right;\">\n",
       "      <th></th>\n",
       "      <th>venue</th>\n",
       "      <th>count</th>\n",
       "    </tr>\n",
       "  </thead>\n",
       "  <tbody>\n",
       "    <tr>\n",
       "      <th>74</th>\n",
       "      <td>dog run</td>\n",
       "      <td>5</td>\n",
       "    </tr>\n",
       "  </tbody>\n",
       "</table>\n",
       "</div>"
      ],
      "text/plain": [
       "      venue  count\n",
       "74  dog run      5"
      ]
     },
     "execution_count": 180,
     "metadata": {},
     "output_type": "execute_result"
    }
   ],
   "source": [
    "category_count_df[category_count_df.venue == 'dog run']"
   ]
  }
 ],
 "metadata": {
  "kernelspec": {
   "display_name": "Python 3",
   "language": "python",
   "name": "python3"
  },
  "language_info": {
   "codemirror_mode": {
    "name": "ipython",
    "version": 3
   },
   "file_extension": ".py",
   "mimetype": "text/x-python",
   "name": "python",
   "nbconvert_exporter": "python",
   "pygments_lexer": "ipython3",
   "version": "3.8.3"
  }
 },
 "nbformat": 4,
 "nbformat_minor": 4
}
